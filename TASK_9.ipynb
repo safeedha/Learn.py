{
  "nbformat": 4,
  "nbformat_minor": 0,
  "metadata": {
    "colab": {
      "name": "TASK 9.ipynb",
      "provenance": [],
      "include_colab_link": true
    },
    "kernelspec": {
      "name": "python3",
      "display_name": "Python 3"
    },
    "language_info": {
      "name": "python"
    }
  },
  "cells": [
    {
      "cell_type": "markdown",
      "metadata": {
        "id": "view-in-github",
        "colab_type": "text"
      },
      "source": [
        "<a href=\"https://colab.research.google.com/github/safeedha/Learn.py/blob/main/TASK_9.ipynb\" target=\"_parent\"><img src=\"https://colab.research.google.com/assets/colab-badge.svg\" alt=\"Open In Colab\"/></a>"
      ]
    },
    {
      "cell_type": "markdown",
      "metadata": {
        "id": "CBOQ3rFElEb0"
      },
      "source": [
        "1. Create an 4x4 array containing the values ranging from 0 - 15 (use arange function). Then ,\n",
        "  \n",
        "  a) split it equally along horizontal.\n",
        "\n",
        "  b) split it as 4 parts vertically.\n",
        "\n"
      ]
    },
    {
      "cell_type": "code",
      "metadata": {
        "id": "pKy4fjS_m3XD",
        "outputId": "6aef1f6c-3e66-47aa-dbbb-043a8e7df170",
        "colab": {
          "base_uri": "https://localhost:8080/"
        }
      },
      "source": [
        "import numpy as np\n",
        "a = np.arange(0,16).reshape(4,4)\n",
        "print(a)\n",
        "print(np.hsplit(a,4))\n",
        "print(np.vsplit(a,4))"
      ],
      "execution_count": 13,
      "outputs": [
        {
          "output_type": "stream",
          "text": [
            "[[ 0  1  2  3]\n",
            " [ 4  5  6  7]\n",
            " [ 8  9 10 11]\n",
            " [12 13 14 15]]\n",
            "[array([[ 0],\n",
            "       [ 4],\n",
            "       [ 8],\n",
            "       [12]]), array([[ 1],\n",
            "       [ 5],\n",
            "       [ 9],\n",
            "       [13]]), array([[ 2],\n",
            "       [ 6],\n",
            "       [10],\n",
            "       [14]]), array([[ 3],\n",
            "       [ 7],\n",
            "       [11],\n",
            "       [15]])]\n",
            "[array([[0, 1, 2, 3]]), array([[4, 5, 6, 7]]), array([[ 8,  9, 10, 11]]), array([[12, 13, 14, 15]])]\n"
          ],
          "name": "stdout"
        }
      ]
    },
    {
      "cell_type": "markdown",
      "metadata": {
        "id": "ORtqWRAeoMvn"
      },
      "source": [
        "2. Create a 3x3 matrix using random module and then,\n",
        "\n",
        "  a) Find the ceil of the matrix.\n",
        "  \n",
        "  b) Find the floor of the matrix."
      ]
    },
    {
      "cell_type": "code",
      "metadata": {
        "id": "kt_CO_v9qpU-",
        "outputId": "291995fc-a916-4738-c5fc-b572e5379cd3",
        "colab": {
          "base_uri": "https://localhost:8080/"
        }
      },
      "source": [
        " \n",
        "import numpy as np\n",
        "A = np.random.rand(3,3)\n",
        "print(A)\n",
        "print(np.ceil(A))\n",
        "print(np.floor(A))"
      ],
      "execution_count": 12,
      "outputs": [
        {
          "output_type": "stream",
          "text": [
            "[[0.17224309 0.58564768 0.19582027]\n",
            " [0.6988813  0.66318935 0.873463  ]\n",
            " [0.36555009 0.24982574 0.98666752]]\n",
            "[[1. 1. 1.]\n",
            " [1. 1. 1.]\n",
            " [1. 1. 1.]]\n",
            "[[0. 0. 0.]\n",
            " [0. 0. 0.]\n",
            " [0. 0. 0.]]\n"
          ],
          "name": "stdout"
        }
      ]
    },
    {
      "cell_type": "markdown",
      "metadata": {
        "id": "oln9t19WqzBb"
      },
      "source": [
        "3. Create a random 1x4 array and print the random array and its shape.\n",
        "    \n",
        "      (use the shape function for finding the shape & use the same random we created here for both the below operations.)\n",
        "\n",
        "  a) Squeeze the random array and print the squeezed array and its shape.\n",
        "  b) Expand the random array by one axis and print the expanded array and its shape."
      ]
    },
    {
      "cell_type": "code",
      "metadata": {
        "id": "cbGGwRo3vpVX",
        "outputId": "bbaaca75-7461-4d81-9c02-7ff54c7acb6c",
        "colab": {
          "base_uri": "https://localhost:8080/"
        }
      },
      "source": [
        "#please provide your answer below this line.\n",
        " \n",
        "import numpy as np\n",
        "x = np.random.rand(1,4)\n",
        "print(x)\n",
        "print(x.shape)\n",
        "x = x.squeeze()\n",
        "print(x)\n",
        "print(x.shape)\n",
        "x = x[:,np.newaxis]\n",
        "print(x)\n",
        "print(x.shape)"
      ],
      "execution_count": 15,
      "outputs": [
        {
          "output_type": "stream",
          "text": [
            "[[0.17020137 0.21760033 0.93535811 0.21156338]]\n",
            "(1, 4)\n",
            "[0.17020137 0.21760033 0.93535811 0.21156338]\n",
            "(4,)\n",
            "[[0.17020137]\n",
            " [0.21760033]\n",
            " [0.93535811]\n",
            " [0.21156338]]\n",
            "(4, 1)\n"
          ],
          "name": "stdout"
        }
      ]
    }
  ]
}