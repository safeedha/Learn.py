{
  "nbformat": 4,
  "nbformat_minor": 0,
  "metadata": {
    "colab": {
      "name": "TASK  7.ipynb",
      "provenance": [],
      "include_colab_link": true
    },
    "kernelspec": {
      "name": "python3",
      "display_name": "Python 3"
    },
    "language_info": {
      "name": "python"
    }
  },
  "cells": [
    {
      "cell_type": "markdown",
      "metadata": {
        "id": "view-in-github",
        "colab_type": "text"
      },
      "source": [
        "<a href=\"https://colab.research.google.com/github/safeedha/Learn.py/blob/main/TASK_7.ipynb\" target=\"_parent\"><img src=\"https://colab.research.google.com/assets/colab-badge.svg\" alt=\"Open In Colab\"/></a>"
      ]
    },
    {
      "cell_type": "markdown",
      "metadata": {
        "id": "b0V3vwzcydKy"
      },
      "source": [
        "1. Write a program to check whether a  string is palindrome or not using functions. \n",
        "\n",
        "   ( A function is to be created to check whether the string is palindrome and it should give the output true or false to the main program)"
      ]
    },
    {
      "cell_type": "code",
      "metadata": {
        "id": "M2Mi7EOdyxiu",
        "outputId": "3b8459e3-f310-4229-f373-59e1abf184b7",
        "colab": {
          "base_uri": "https://localhost:8080/"
        }
      },
      "source": [
        "#please enter the code below this line.\n",
        "def check(str):\n",
        "    rev=str[::-1]\n",
        "    if (rev==str):\n",
        "        return True\n",
        "    else:\n",
        "        return False\n",
        "x =input(\"Enter a string: \")\n",
        "if check(x):\n",
        "    print(\"It is palindrome\")\n",
        "else:\n",
        "    print(\"Not palindrome\")"
      ],
      "execution_count": 6,
      "outputs": [
        {
          "output_type": "stream",
          "text": [
            "Enter a string: malayalam\n",
            "It is palindrome\n"
          ],
          "name": "stdout"
        }
      ]
    },
    {
      "cell_type": "markdown",
      "metadata": {
        "id": "vSiShTyOzEz-"
      },
      "source": [
        "2.  Write a menu driven program to find largest element in L, smallest element, avg of all values, sum of all values in L. All these operation should be performed in different functions and the result should be returned.\n",
        "\n",
        "\n",
        "      L=[23,24,11,90,1,41,9,99,28,56,72]"
      ]
    },
    {
      "cell_type": "code",
      "metadata": {
        "id": "fRtMIw_CzsmO",
        "outputId": "a8166305-2a28-403b-bc13-0e505d165db1",
        "colab": {
          "base_uri": "https://localhost:8080/"
        }
      },
      "source": [
        "L =[23,24,11,90,1,41,9,99,28,56,72]\n",
        " \n",
        "def largest(L):\n",
        "    largest_num = L[0]\n",
        "    for num in L:\n",
        "        if num > largest_num:\n",
        "            largest_num = num\n",
        "    return largest_num\n",
        "print(\"Largest element is \",largest(L))\n",
        "     \n",
        "def smallestnumber(L):     \n",
        "    smallest_num = L[0]\n",
        "    for num in L:\n",
        "        if num < smallest_num:\n",
        "            smallest_num = num\n",
        "    return smallest_num\n",
        "print(\"Smallest element is \",smallestnumber(L))\n",
        " \n",
        "def average(L):\n",
        "    total = 0\n",
        "    for y in L:\n",
        "        total+=y\n",
        "    average_num = total / len(L)\n",
        "    return average_num\n",
        "print(\"Average of all values is \",average(L))\n",
        " \n",
        " \n",
        "def sum_list(L):\n",
        "        sum_numbers = 0\n",
        "        for x in L:\n",
        "            sum_numbers+=x\n",
        "        return sum_numbers\n",
        "print(\"Sum of all values is \",sum_list(L))"
      ],
      "execution_count": 3,
      "outputs": [
        {
          "output_type": "stream",
          "text": [
            "Largest element is  99\n",
            "Smallest element is  1\n",
            "Average of all values is  41.27272727272727\n",
            "Sum of all values is  454\n"
          ],
          "name": "stdout"
        }
      ]
    }
  ]
}