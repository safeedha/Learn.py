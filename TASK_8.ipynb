{
  "nbformat": 4,
  "nbformat_minor": 0,
  "metadata": {
    "colab": {
      "name": "TASK 8.ipynb",
      "provenance": [],
      "include_colab_link": true
    },
    "kernelspec": {
      "name": "python3",
      "display_name": "Python 3"
    },
    "language_info": {
      "name": "python"
    }
  },
  "cells": [
    {
      "cell_type": "markdown",
      "metadata": {
        "id": "view-in-github",
        "colab_type": "text"
      },
      "source": [
        "<a href=\"https://colab.research.google.com/github/safeedha/Learn.py/blob/main/TASK_8.ipynb\" target=\"_parent\"><img src=\"https://colab.research.google.com/assets/colab-badge.svg\" alt=\"Open In Colab\"/></a>"
      ]
    },
    {
      "cell_type": "markdown",
      "metadata": {
        "id": "slsGswYbJSo7"
      },
      "source": [
        "1. Generate a 3 x 3 matrix using random module."
      ]
    },
    {
      "cell_type": "code",
      "metadata": {
        "id": "GGRQSYyNJW9t",
        "outputId": "effa69a8-9700-4277-c19b-09e540da303a",
        "colab": {
          "base_uri": "https://localhost:8080/"
        }
      },
      "source": [
        "#please provide your answer below this line.\n",
        "import numpy as np\n",
        "a = np.random.rand(3,3)\n",
        "print(a)"
      ],
      "execution_count": 1,
      "outputs": [
        {
          "output_type": "stream",
          "text": [
            "[[0.90773377 0.8888609  0.97482427]\n",
            " [0.31330309 0.56754381 0.88973671]\n",
            " [0.93027056 0.58826052 0.79852303]]\n"
          ],
          "name": "stdout"
        }
      ]
    },
    {
      "cell_type": "markdown",
      "metadata": {
        "id": "4OB9KFX6JfYA"
      },
      "source": [
        "2. Generate two 4 x 4 matrix using numpy and \n",
        "\n",
        " a) Reshape it to 2 x 8matrix and vertically stack it.\n",
        "\n",
        " b) Reshape it to 2 x 8 matrix and horizontally stack it."
      ]
    },
    {
      "cell_type": "code",
      "metadata": {
        "id": "VoIqYeNWJ4H_",
        "outputId": "1c596607-f096-48ee-8cd1-9545df5ec7a6",
        "colab": {
          "base_uri": "https://localhost:8080/"
        }
      },
      "source": [
        "#please provide your answer below this \n",
        "import numpy as np\n",
        "a= np.random.rand(4,4)\n",
        "print('i)',a)\n",
        "b = np.random.rand(4,4)\n",
        "print(b)\n",
        "a = a.reshape(2,8)\n",
        "b = b.reshape(2,8)\n",
        "print('ii)',a)\n",
        "print(b)\n",
        "print('iii)',np.vstack((a,b)))\n",
        "print('iv)',np.hstack((a,b)))"
      ],
      "execution_count": 2,
      "outputs": [
        {
          "output_type": "stream",
          "text": [
            "i) [[0.96051611 0.71291489 0.00957362 0.83226337]\n",
            " [0.88428959 0.55429415 0.34505569 0.67116071]\n",
            " [0.23254935 0.60770875 0.83335421 0.14054317]\n",
            " [0.44850285 0.13266614 0.8443271  0.72791184]]\n",
            "[[0.76006465 0.52445703 0.41400388 0.00664814]\n",
            " [0.78870225 0.7139891  0.09497049 0.78041357]\n",
            " [0.55445881 0.27588565 0.86377148 0.47733938]\n",
            " [0.97823943 0.00275425 0.4183779  0.64700092]]\n",
            "ii) [[0.96051611 0.71291489 0.00957362 0.83226337 0.88428959 0.55429415\n",
            "  0.34505569 0.67116071]\n",
            " [0.23254935 0.60770875 0.83335421 0.14054317 0.44850285 0.13266614\n",
            "  0.8443271  0.72791184]]\n",
            "[[0.76006465 0.52445703 0.41400388 0.00664814 0.78870225 0.7139891\n",
            "  0.09497049 0.78041357]\n",
            " [0.55445881 0.27588565 0.86377148 0.47733938 0.97823943 0.00275425\n",
            "  0.4183779  0.64700092]]\n",
            "iii) [[0.96051611 0.71291489 0.00957362 0.83226337 0.88428959 0.55429415\n",
            "  0.34505569 0.67116071]\n",
            " [0.23254935 0.60770875 0.83335421 0.14054317 0.44850285 0.13266614\n",
            "  0.8443271  0.72791184]\n",
            " [0.76006465 0.52445703 0.41400388 0.00664814 0.78870225 0.7139891\n",
            "  0.09497049 0.78041357]\n",
            " [0.55445881 0.27588565 0.86377148 0.47733938 0.97823943 0.00275425\n",
            "  0.4183779  0.64700092]]\n",
            "iv) [[0.96051611 0.71291489 0.00957362 0.83226337 0.88428959 0.55429415\n",
            "  0.34505569 0.67116071 0.76006465 0.52445703 0.41400388 0.00664814\n",
            "  0.78870225 0.7139891  0.09497049 0.78041357]\n",
            " [0.23254935 0.60770875 0.83335421 0.14054317 0.44850285 0.13266614\n",
            "  0.8443271  0.72791184 0.55445881 0.27588565 0.86377148 0.47733938\n",
            "  0.97823943 0.00275425 0.4183779  0.64700092]]\n"
          ],
          "name": "stdout"
        }
      ]
    }
  ]
}